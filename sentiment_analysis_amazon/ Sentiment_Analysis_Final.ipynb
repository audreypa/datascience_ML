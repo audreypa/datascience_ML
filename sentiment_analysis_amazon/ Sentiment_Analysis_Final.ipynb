{
  "cells": [
    {
      "cell_type": "code",
      "execution_count": null,
      "metadata": {
        "colab": {
          "base_uri": "https://localhost:8080/"
        },
        "id": "iGEOb9i2-uz5",
        "outputId": "22337f85-37ee-45d0-9c7a-9437748df468"
      },
      "outputs": [
        {
          "name": "stdout",
          "output_type": "stream",
          "text": [
            "Looking in indexes: https://pypi.org/simple, https://us-python.pkg.dev/colab-wheels/public/simple/\n",
            "Collecting pyspark\n",
            "  Downloading pyspark-3.3.0.tar.gz (281.3 MB)\n",
            "\u001b[K     |████████████████████████████████| 281.3 MB 47 kB/s \n",
            "\u001b[?25hCollecting py4j==0.10.9.5\n",
            "  Downloading py4j-0.10.9.5-py2.py3-none-any.whl (199 kB)\n",
            "\u001b[K     |████████████████████████████████| 199 kB 37.1 MB/s \n",
            "\u001b[?25hBuilding wheels for collected packages: pyspark\n",
            "  Building wheel for pyspark (setup.py) ... \u001b[?25l\u001b[?25hdone\n",
            "  Created wheel for pyspark: filename=pyspark-3.3.0-py2.py3-none-any.whl size=281764026 sha256=914b67b6d3b76e22b248ea7992a66b5369ec07e0d349c577c20d55b9b69297b9\n",
            "  Stored in directory: /root/.cache/pip/wheels/7a/8e/1b/f73a52650d2e5f337708d9f6a1750d451a7349a867f928b885\n",
            "Successfully built pyspark\n",
            "Installing collected packages: py4j, pyspark\n",
            "Successfully installed py4j-0.10.9.5 pyspark-3.3.0\n",
            "Mounted at /content/drive\n"
          ]
        }
      ],
      "source": [
        "# !pip install pyspark\n",
        "# from google.colab import drive\n",
        "# drive.mount('/content/drive')"
      ]
    },
    {
      "cell_type": "code",
      "execution_count": null,
      "metadata": {
        "colab": {
          "base_uri": "https://localhost:8080/"
        },
        "id": "shKkuSpk-91G",
        "outputId": "24501fcc-ef34-4f13-e8fb-eb68306814be"
      },
      "outputs": [
        {
          "name": "stderr",
          "output_type": "stream",
          "text": [
            "[nltk_data] Downloading package stopwords to /root/nltk_data...\n",
            "[nltk_data]   Unzipping corpora/stopwords.zip.\n",
            "[nltk_data] Downloading package wordnet to /root/nltk_data...\n",
            "[nltk_data]   Unzipping corpora/wordnet.zip.\n",
            "[nltk_data] Downloading package omw-1.4 to /root/nltk_data...\n",
            "[nltk_data]   Unzipping corpora/omw-1.4.zip.\n",
            "[nltk_data] Downloading package averaged_perceptron_tagger to\n",
            "[nltk_data]     /root/nltk_data...\n",
            "[nltk_data]   Unzipping taggers/averaged_perceptron_tagger.zip.\n"
          ]
        },
        {
          "data": {
            "text/plain": [
              "True"
            ]
          },
          "execution_count": 2,
          "metadata": {},
          "output_type": "execute_result"
        }
      ],
      "source": [
        "from pyspark.sql.functions import *\n",
        "from pyspark.sql import SQLContext\n",
        "from pyspark import SparkContext\n",
        "\n",
        "\n",
        "import nltk\n",
        "from nltk.tokenize import RegexpTokenizer, word_tokenize\n",
        "from nltk.stem import WordNetLemmatizer\n",
        "from nltk.stem.snowball import PorterStemmer\n",
        "from nltk.corpus import stopwords\n",
        "\n",
        "#from nltk.grammar import Nonterminal\n",
        "\n",
        "import pandas as pd\n",
        "import numpy as np\n",
        "\n",
        "import imblearn\n",
        "from imblearn.metrics import geometric_mean_score\n",
        "\n",
        "import sklearn\n",
        "from sklearn.pipeline import make_pipeline\n",
        "from sklearn.feature_extraction.text import CountVectorizer,TfidfVectorizer\n",
        "from sklearn.model_selection import cross_val_score,cross_val_predict\n",
        "from sklearn.linear_model import LogisticRegression\n",
        "from sklearn.svm import LinearSVC\n",
        "from sklearn.naive_bayes import BernoulliNB\n",
        "from sklearn.neural_network import MLPClassifier\n",
        "from sklearn.model_selection import GridSearchCV\n",
        "from sklearn.metrics import precision_score, recall_score,f1_score,classification_report,confusion_matrix,roc_curve,precision_recall_curve,auc,precision_recall_fscore_support, make_scorer\n",
        "from sklearn.model_selection import cross_val_predict,train_test_split, cross_val_score\n",
        "\n",
        "from joblib import parallel_backend\n",
        "\n",
        "import matplotlib.pyplot as plt\n",
        "\n",
        "import seaborn as sns\n",
        "\n",
        "import gc\n",
        "\n",
        "nltk.download('stopwords')\n",
        "nltk.download('wordnet')\n",
        "nltk.download('omw-1.4')\n",
        "nltk.download('averaged_perceptron_tagger')"
      ]
    },
    {
      "cell_type": "markdown",
      "metadata": {
        "id": "kvx1V9WF2DBK"
      },
      "source": [
        "**EXPLORATION DES DONNEES**"
      ]
    },
    {
      "cell_type": "markdown",
      "metadata": {
        "id": "q9_MweL8AALL"
      },
      "source": [
        "Collecte des données et retraitement du dataframe:"
      ]
    },
    {
      "cell_type": "code",
      "execution_count": null,
      "metadata": {
        "id": "cDk7h7nPAJww"
      },
      "outputs": [],
      "source": [
        "from pyspark.sql import SparkSession\n",
        "spark = SparkSession.builder\\\n",
        "        .master(\"local\")\\\n",
        "        .appName(\"Colab\")\\\n",
        "        .config('spark.ui.port', '4050')\\\n",
        "        .getOrCreate()"
      ]
    },
    {
      "cell_type": "code",
      "execution_count": null,
      "metadata": {
        "id": "3wIcvnMb_9H3"
      },
      "outputs": [],
      "source": [
        "data = spark.read.csv('./pr_10k.csv', sep=';',header = True)\n",
        "data = data.na.fill(\"NULLDATA\")"
      ]
    },
    {
      "cell_type": "code",
      "execution_count": null,
      "metadata": {
        "id": "t4meEj6LBRaX"
      },
      "outputs": [],
      "source": [
        "def preprocessing_data(df):\n",
        "    regexp = RegexpTokenizer('\\w+')\n",
        "    stopwords = nltk.corpus.stopwords.words(\"english\")\n",
        "    wordnet_lem = WordNetLemmatizer()\n",
        "    df = df.toPandas()\n",
        "    stemmer = PorterStemmer()\n",
        "    for col in df.columns:\n",
        "        df[col] = df[col].astype(str).str.lower()\n",
        "        \n",
        "        #regex token :\n",
        "        df[col]=df[col].apply(regexp.tokenize)\n",
        "        \n",
        "        #stop word :\n",
        "        df[col] = df[col].apply(lambda x: [item for item in x if item not in stopwords])\n",
        "        \n",
        "\n",
        "        #lemmatization\n",
        "        def lemmatize_words(text):\n",
        "                wordnet_lem = WordNetLemmatizer()\n",
        "                words = [wordnet_lem.lemmatize(word,pos='n') for word in text]\n",
        "                words = [wordnet_lem.lemmatize(word,pos='v') for word in text]\n",
        "                return ' '.join(words)\n",
        "            \n",
        "        df[col] = df[col].apply(lemmatize_words)\n",
        "\n",
        "\n",
        "  \n",
        "        \n",
        "        final_df = spark.createDataFrame(df)\n",
        "    return final_df"
      ]
    },
    {
      "cell_type": "code",
      "execution_count": null,
      "metadata": {
        "id": "xLyzNb8_B7a_"
      },
      "outputs": [],
      "source": [
        "df = preprocessing_data(data)"
      ]
    },
    {
      "cell_type": "code",
      "execution_count": null,
      "metadata": {
        "colab": {
          "base_uri": "https://localhost:8080/"
        },
        "id": "PxWlYnMfCH9J",
        "outputId": "86b4b93a-c8f0-4956-a3dc-d360838772ab"
      },
      "outputs": [
        {
          "name": "stdout",
          "output_type": "stream",
          "text": [
            "+--------------------+--------------------+---------+\n",
            "|                name|              review|sentiment|\n",
            "+--------------------+--------------------+---------+\n",
            "|annas dream full ...|soft comfortable ...| positive|\n",
            "|stop pacifier suc...|product well wort...| positive|\n",
            "|stop pacifier suc...|kid cry non stop ...| positive|\n",
            "|stop pacifier suc...|binky fairy come ...| positive|\n",
            "|tale baby days pe...|lovely book bind ...| positive|\n",
            "|baby tracker reg ...|perfect new paren...| positive|\n",
            "|baby tracker reg ...|friend mine pin p...| positive|\n",
            "|baby tracker reg ...|easy way nanny re...| positive|\n",
            "|baby tracker reg ...|love journal nann...| positive|\n",
            "|baby tracker reg ...|book perfect firs...| positive|\n",
            "|baby tracker reg ...|originally give n...| positive|\n",
            "|nature lullabies ...|space monthly pho...| positive|\n",
            "|nature lullabies ...|buy calender seco...| positive|\n",
            "|nature lullabies ...|love little calen...| positive|\n",
            "|nature lullabies ...|calender could fi...| positive|\n",
            "|nature lullabies ...|complete calendar...| positive|\n",
            "|nature lullabies ...|want get somethin...| positive|\n",
            "|nature lullabies ...|hard time find se...| positive|\n",
            "|nature lullabies ...|purchase second y...| negative|\n",
            "|nature lullabies ...|love calendar rec...| positive|\n",
            "+--------------------+--------------------+---------+\n",
            "only showing top 20 rows\n",
            "\n"
          ]
        }
      ],
      "source": [
        "df.show()"
      ]
    },
    {
      "cell_type": "markdown",
      "metadata": {
        "id": "bi_LTiV8D0bx"
      },
      "source": [
        "Création RDD et utilisation de word count :"
      ]
    },
    {
      "cell_type": "code",
      "execution_count": null,
      "metadata": {
        "id": "87_ynsdXD5sC"
      },
      "outputs": [],
      "source": [
        "rdd = df.rdd"
      ]
    },
    {
      "cell_type": "code",
      "execution_count": null,
      "metadata": {
        "id": "ZxONnKOfD-nR"
      },
      "outputs": [],
      "source": [
        "def wordcount(t): \n",
        "    t = t.flatMap(list)\n",
        "    motsun = t.flatMap(lambda x: [(w,1) for  w in x.split() if len(w)>2 and w!='nulldata'])\n",
        "    wc = motsun.reduceByKey(lambda x,y : x + y)\n",
        "    return wc"
      ]
    },
    {
      "cell_type": "code",
      "execution_count": null,
      "metadata": {
        "colab": {
          "base_uri": "https://localhost:8080/"
        },
        "id": "fzJCNMPND_Rl",
        "outputId": "44ab07bf-760f-4ffc-97c4-e155239128ad"
      },
      "outputs": [
        {
          "data": {
            "text/plain": [
              "[('annas', 1),\n",
              " ('dream', 74),\n",
              " ('full', 296),\n",
              " ('quilt', 194),\n",
              " ('sham', 1),\n",
              " ('soft', 908),\n",
              " ('comfortable', 793),\n",
              " ('warmer', 938),\n",
              " ('look', 1398),\n",
              " ('fit', 1413),\n",
              " ('size', 871),\n",
              " ('bed', 598),\n",
              " ('perfectly', 297),\n",
              " ('would', 3571),\n",
              " ('recommend', 1688),\n",
              " ('anyone', 385),\n",
              " ('type', 198),\n",
              " ('positive', 7939),\n",
              " ('stop', 301),\n",
              " ('pacifier', 79)]"
            ]
          },
          "execution_count": 10,
          "metadata": {},
          "output_type": "execute_result"
        }
      ],
      "source": [
        "wordcount(rdd).take(20)"
      ]
    },
    {
      "cell_type": "markdown",
      "metadata": {
        "id": "1IO64IpYEe1b"
      },
      "source": [
        "Requêtes SQL :"
      ]
    },
    {
      "cell_type": "code",
      "execution_count": null,
      "metadata": {
        "colab": {
          "base_uri": "https://localhost:8080/"
        },
        "id": "kLQwoanUEgmC",
        "outputId": "f7d6a692-84e8-4e78-f4ad-300b7f267ea8"
      },
      "outputs": [
        {
          "name": "stdout",
          "output_type": "stream",
          "text": [
            "+--------------------+---------+-----+\n",
            "|                name|sentiment|count|\n",
            "+--------------------+---------+-----+\n",
            "|Leachco Bath 'N B...| positive|   15|\n",
            "|The First Years T...| positive|    6|\n",
            "|All Stars 6 Piece...| positive|   11|\n",
            "|Basic Comfort Han...| positive|    4|\n",
            "|The First Years N...| positive|   24|\n",
            "|Philips AVENT Inf...| positive|    5|\n",
            "|Philips AVENT Dis...| positive|   10|\n",
            "|Prince Lionheart ...| positive|    2|\n",
            "|The First Years S...| positive|   39|\n",
            "|Kel-Gar Stroll'r ...| positive|    5|\n",
            "|Regal Lager Diape...| positive|    2|\n",
            "|Fisher-Price Slum...| positive|    3|\n",
            "|Safety 1st Deluxe...| positive|   48|\n",
            "|Leachco Crib Spac...| positive|    1|\n",
            "|         PureLan 100| positive|    2|\n",
            "|PRIMO EuroBath, P...| positive|  162|\n",
            "|Kidco, Inc. 5.5' ...| positive|    2|\n",
            "|Evenflo Snugli Po...| positive|    1|\n",
            "|Newborn 5 Piece S...| positive|    1|\n",
            "|Semanario (7) Lit...| positive|    1|\n",
            "+--------------------+---------+-----+\n",
            "only showing top 20 rows\n",
            "\n"
          ]
        }
      ],
      "source": [
        "req1 = data.groupBy(\"name\",\"sentiment\").count().where(\"sentiment=='positive'\")\n",
        "req1.show()"
      ]
    },
    {
      "cell_type": "code",
      "execution_count": null,
      "metadata": {
        "colab": {
          "base_uri": "https://localhost:8080/"
        },
        "id": "VWFcUGBPEhvJ",
        "outputId": "7a716e4d-5843-4e10-ca49-38f408795c2d"
      },
      "outputs": [
        {
          "name": "stdout",
          "output_type": "stream",
          "text": [
            "+--------------------+---------+-----+---------+-----+\n",
            "|                name|sentiment|count|sentiment|count|\n",
            "+--------------------+---------+-----+---------+-----+\n",
            "|Playtex 3 Pack Ve...| positive|   62| negative|   23|\n",
            "|Prince Lionheart ...| positive|    3| negative|    3|\n",
            "|The First Years N...| positive|   24| negative|   18|\n",
            "|Delta Children's ...| positive|    8| negative|    1|\n",
            "|Seal 'n Go Breast...| positive|    3| negative|    1|\n",
            "|Eddie Bauer Backp...| positive|    3| negative|    6|\n",
            "|The First Years 4...| positive|   16| negative|    3|\n",
            "|Philips AVENT New...| positive|   30| negative|   27|\n",
            "|The First Years 2...| positive|    1| negative|    1|\n",
            "|Sassy Baby Powder...| positive|    2| negative|    4|\n",
            "|Sassy Baby Warmin...| positive|    5| negative|    1|\n",
            "|Once Upon A Potty...| positive|    5| negative|    2|\n",
            "|Dr. Brown's Natur...| positive|    2| negative|    2|\n",
            "|Regalo Easy Diner...| positive|   79| negative|   22|\n",
            "|NUK 2 Pack Classi...| positive|    4| negative|    1|\n",
            "|Playtex Diaper Ge...| positive|   40| negative|   38|\n",
            "|Leachco Bath 'N B...| positive|   15| negative|    4|\n",
            "|Regal Lager Diape...| positive|    2| negative|    2|\n",
            "|Tiny Love Take Al...| positive|    4| negative|    2|\n",
            "|Monterey Sleigh C...| positive|    7| negative|    3|\n",
            "+--------------------+---------+-----+---------+-----+\n",
            "only showing top 20 rows\n",
            "\n"
          ]
        }
      ],
      "source": [
        "req2_po = data.groupBy(\"name\",\"sentiment\").count().where(\"sentiment=='positive'\")\n",
        "req2_neg = data.groupBy(\"name\",\"sentiment\").count().where(\"sentiment=='negative'\")\n",
        "req2 = req2_po.join(req2_neg,on='name')\n",
        "req2.show()"
      ]
    },
    {
      "cell_type": "code",
      "execution_count": null,
      "metadata": {
        "colab": {
          "base_uri": "https://localhost:8080/"
        },
        "id": "XKRoDliSEj7n",
        "outputId": "3a56f5d3-0bb4-4828-d476-2439a87bf1f2"
      },
      "outputs": [
        {
          "name": "stdout",
          "output_type": "stream",
          "text": [
            "+--------------------+--------+---------+\n",
            "|                name|  review|sentiment|\n",
            "+--------------------+--------+---------+\n",
            "|SoftPlay Twinkle ...|NULLDATA| positive|\n",
            "|Our Baby Girl Mem...|NULLDATA| positive|\n",
            "|Summer Infant, Ul...|NULLDATA| positive|\n",
            "|Safety 1st Deluxe...|NULLDATA| negative|\n",
            "|Northstate Supery...|NULLDATA| positive|\n",
            "|Munchkin Mozart M...|NULLDATA| positive|\n",
            "|Graco TotBloc Pac...|NULLDATA| positive|\n",
            "|Graco TotBloc Pac...|NULLDATA| positive|\n",
            "|Prince Lionheart ...|NULLDATA| negative|\n",
            "|BABYBJORN Toilet ...|NULLDATA| positive|\n",
            "|BABYBJORN Potty C...|NULLDATA| positive|\n",
            "|DEX Products Preg...|NULLDATA| positive|\n",
            "|DEX Products Preg...|NULLDATA| negative|\n",
            "|Playtex 3 Pack BP...|NULLDATA| positive|\n",
            "|The First Years B...|NULLDATA| negative|\n",
            "|The First Years S...|NULLDATA| positive|\n",
            "|  Sliding Door Locks|NULLDATA| negative|\n",
            "|Graco - Duo Strol...|NULLDATA| positive|\n",
            "|Prince Lionheart ...|NULLDATA| positive|\n",
            "|Dr. Brown's Natur...|NULLDATA| negative|\n",
            "+--------------------+--------+---------+\n",
            "only showing top 20 rows\n",
            "\n"
          ]
        }
      ],
      "source": [
        "req3 = data.where(\"review=='NULLDATA'\")\n",
        "req3.show()"
      ]
    },
    {
      "cell_type": "markdown",
      "metadata": {
        "id": "b-DxVgvw2ysN"
      },
      "source": [
        "**ANALYSE DES SENTIMENTS**"
      ]
    },
    {
      "cell_type": "markdown",
      "metadata": {
        "id": "tJ_LjhmR3FFc"
      },
      "source": [
        "Retraitement des données :"
      ]
    },
    {
      "cell_type": "code",
      "execution_count": null,
      "metadata": {
        "colab": {
          "base_uri": "https://localhost:8080/"
        },
        "id": "vA7oYSDcEmyA",
        "outputId": "0c6a7d93-2413-4553-cdd4-2ff30e1c6182"
      },
      "outputs": [
        {
          "name": "stdout",
          "output_type": "stream",
          "text": [
            "DF size: 9999\n",
            "DF without null data size: 9976\n"
          ]
        }
      ],
      "source": [
        "data_ML = df.toPandas()\n",
        "print(\"DF size: {:.0f}\".format(len(data_ML)))\n",
        "data_ML = data_ML[data_ML['review']!='nulldata']\n",
        "print(\"DF without null data size: {:.0f}\".format(len(data_ML)))"
      ]
    },
    {
      "cell_type": "code",
      "execution_count": null,
      "metadata": {
        "id": "vwOsDMSI3Ds6"
      },
      "outputs": [],
      "source": [
        "data_ML['sentiment'].replace(['positive','negative'],[int(1), int(0)], inplace=True)"
      ]
    },
    {
      "cell_type": "markdown",
      "metadata": {
        "id": "c4GaRUx33XoU"
      },
      "source": [
        "Split des données en 2 jeux : \n",
        "\n",
        "\n",
        "*   Train : entrainement du jeu avec plusieurs paramètres\n",
        "*   Test : test du modèle avec un jeu pas encore utilisé \n",
        "\n",
        "Stratify utilisé pour être sûr d'avoir la même compo de positif et negatif dans train et test. On pourrait également utiliser un dataset un peu réajusté (pas trop pour ne pas déformer la réalité, afin d'ajouter des valeurs random de la classe sous représentée. Les résultats sont meilleurs.\n",
        "\n"
      ]
    },
    {
      "cell_type": "code",
      "execution_count": null,
      "metadata": {
        "id": "4j2rj05t3UeS"
      },
      "outputs": [],
      "source": [
        "X,y = data_ML.review, data_ML.sentiment\n",
        "X_train, X_test, y_train, y_test = train_test_split(X, y, test_size=0.25, random_state=42, stratify=y)"
      ]
    },
    {
      "cell_type": "code",
      "execution_count": null,
      "metadata": {
        "id": "Meq8y8JTQis0"
      },
      "outputs": [],
      "source": [
        "\n",
        "def metrics_df(model,X,y,y_pred,average=\"binary\"):\n",
        "  score = model.score(X,y_test)\n",
        "  precision = precision_score(y, y_pred,average=average)\n",
        "  recall = recall_score(y, y_pred,average=average)\n",
        "  f_score = f1_score(y, y_pred,average=average)\n",
        "  df = pd.Series({\"Score (not really usefull for unbalanced dataset)\":score,\"Precision\":precision, \"Recall\":recall,\"F1 Score\":f_score})\n",
        "  return df\n",
        "\n",
        "def confusion_matrix_plot(model, X, y, y_pred):\n",
        "  cm=confusion_matrix(y, y_pred)\n",
        "  plt.figure(figsize=(9,9))\n",
        "  sns.heatmap(cm, annot=True, fmt=\".0f\", linewidths=.5, square = True, cmap = 'Blues');\n",
        "  plt.ylabel('Actual label');\n",
        "  plt.xlabel('Predicted label');\n",
        "  all_sample_title = 'Accuracy Score: {0}'.format(model.score(X,y))\n",
        "  plt.title(all_sample_title, size = 15);\n",
        "  plt.show();\n",
        "\n",
        "def plot_precision_recall_vs_thresholds(model, X ,y, method):\n",
        "  y_scores=cross_val_predict(model, X, y, cv=3, method=method)\n",
        "  if method == \"predict_proba\":\n",
        "    precisions, recalls, thresholds = precision_recall_curve(y , y_scores[:,1])\n",
        "  else:\n",
        "    precisions, recalls, thresholds = precision_recall_curve(y , y_scores)\n",
        "  plt.plot(thresholds, precisions[:-1],\"b--\", label=\"Precision\",linewidth=2)\n",
        "  plt.plot(thresholds, recalls[:-1],\"g--\", label=\"Recall\",linewidth=2)\n",
        "  plt.xlabel(\"Threshold\",fontsize =16)\n",
        "  plt.legend(loc=\"lower left\",fontsize=16)\n",
        "  plt.ylim([0,1])\n",
        "\n",
        "def plot_roc_curve(model, X ,y, method, label=None):\n",
        "  y_scores=cross_val_predict(model, X, y, cv=3, method=method)\n",
        "  if method == \"predict_proba\":\n",
        "    fpr,tpr,thresholds = roc_curve(y,y_scores[:,1])\n",
        "  else :\n",
        "    fpr,tpr,thresholds = roc_curve(y,y_scores)\n",
        "  auc_value = auc(fpr,tpr)\n",
        "  plt.plot(fpr,tpr,linewidth=2,label=label)\n",
        "  plt.title(\"AUC : {:.2f}\".format(auc_value))\n",
        "  plt.plot([0,1],[0,1],'k--')\n",
        "  plt.axis([0,1,0,1])\n",
        "  plt.xlabel('FPR',fontsize=16)\n",
        "  plt.ylabel('TPR',fontsize=16)\n"
      ]
    },
    {
      "cell_type": "markdown",
      "metadata": {
        "id": "uAjgQBCh40sh"
      },
      "source": [
        "SVM Model :"
      ]
    },
    {
      "cell_type": "markdown",
      "metadata": {
        "id": "wBmi3KJR47fi"
      },
      "source": [
        "*Choice 1 : CountVectorizer*"
      ]
    },
    {
      "cell_type": "code",
      "execution_count": null,
      "metadata": {
        "colab": {
          "base_uri": "https://localhost:8080/"
        },
        "id": "-iAg6M_2vllC",
        "outputId": "3aded8b7-0ece-49af-eac9-5bc893289370"
      },
      "outputs": [
        {
          "name": "stdout",
          "output_type": "stream",
          "text": [
            "Fitting 5 folds for each of 24 candidates, totalling 120 fits\n"
          ]
        }
      ],
      "source": [
        "gm_scorer = make_scorer(geometric_mean_score, greater_is_better=True) #Gmean is the sqrt(sensitiviy*specificity) and is often used for imbalanced data\n",
        "\n",
        "pipe = make_pipeline(CountVectorizer(), LinearSVC(max_iter=8000))\n",
        "param_grid = {'linearsvc__C':[0.001,0.005, 0.1],\n",
        "              'linearsvc__penalty': ['l2'],\n",
        "              'linearsvc__loss': ['squared_hinge'],\n",
        "              'linearsvc__class_weight':['balanced'],\n",
        "              'countvectorizer__ngram_range': [(1, 2),(1,3)],\n",
        "              'countvectorizer__min_df':[4,5,6,7]}\n",
        "\n",
        "grid_countvec_svc = GridSearchCV(pipe, param_grid, cv=5, verbose=1, scoring='roc_auc') \n",
        "\n",
        "with parallel_backend('threading', n_jobs=4):\n",
        "  grid_countvec_svc.fit(X_train, y_train)"
      ]
    },
    {
      "cell_type": "code",
      "execution_count": null,
      "metadata": {
        "colab": {
          "base_uri": "https://localhost:8080/"
        },
        "id": "OUhCiTh0NKXx",
        "outputId": "5a797406-64b9-432e-b90c-24b44cab02f5"
      },
      "outputs": [
        {
          "data": {
            "text/plain": [
              "210"
            ]
          },
          "execution_count": 19,
          "metadata": {},
          "output_type": "execute_result"
        }
      ],
      "source": [
        "gc.collect()"
      ]
    },
    {
      "cell_type": "code",
      "execution_count": null,
      "metadata": {
        "colab": {
          "base_uri": "https://localhost:8080/"
        },
        "id": "MDTgItgl5FRB",
        "outputId": "3b250c37-c898-4eaf-f6d1-04b6e3686c40"
      },
      "outputs": [
        {
          "name": "stdout",
          "output_type": "stream",
          "text": [
            "Best cross-validation score: 0.92\n",
            "Best parameters:  {'countvectorizer__min_df': 4, 'countvectorizer__ngram_range': (1, 3), 'linearsvc__C': 0.005, 'linearsvc__class_weight': 'balanced', 'linearsvc__loss': 'squared_hinge', 'linearsvc__penalty': 'l2'}\n"
          ]
        }
      ],
      "source": [
        "print(\"Best cross-validation score: {:.2f}\".format(grid_countvec_svc.best_score_))\n",
        "print(\"Best parameters: \", grid_countvec_svc.best_params_)\n"
      ]
    },
    {
      "cell_type": "code",
      "execution_count": null,
      "metadata": {
        "id": "DXLQ-JJh5f-j"
      },
      "outputs": [],
      "source": [
        "countvec_svc = grid_countvec_svc.best_estimator_.named_steps[\"countvectorizer\"]\n",
        "countvec_svc_best = grid_countvec_svc.best_estimator_.named_steps[\"linearsvc\"]\n",
        "X_test_countvec_svc_best=countvec_svc.transform(X_test)\n",
        "y_pred_countvec_svc_best = cross_val_predict(countvec_svc_best,X_test_countvec_svc_best,y_test,cv=5)"
      ]
    },
    {
      "cell_type": "code",
      "execution_count": null,
      "metadata": {
        "colab": {
          "base_uri": "https://localhost:8080/"
        },
        "id": "Vrfq8R_COoH_",
        "outputId": "8bb0a449-aa9c-4351-a084-8151ec043407"
      },
      "outputs": [
        {
          "data": {
            "text/plain": [
              "Score (not really usefull for unbalanced dataset)    0.870489\n",
              "Precision                                            0.919397\n",
              "Recall                                               0.898831\n",
              "F1 Score                                             0.908997\n",
              "dtype: float64"
            ]
          },
          "execution_count": 22,
          "metadata": {},
          "output_type": "execute_result"
        }
      ],
      "source": [
        "metrics_df(countvec_svc_best,X_test_countvec_svc_best,y_test,y_pred_countvec_svc_best)"
      ]
    },
    {
      "cell_type": "code",
      "execution_count": null,
      "metadata": {
        "colab": {
          "base_uri": "https://localhost:8080/",
          "height": 520
        },
        "id": "eDFcZ2q_-m9q",
        "outputId": "445d5fda-21a5-408a-f946-48e0596e162d"
      },
      "outputs": [
        {
          "data": {
            "image/png": "[encoded data removed]",
            "text/plain": [
              "<Figure size 648x648 with 2 Axes>"
            ]
          },
          "metadata": {
            "needs_background": "light"
          },
          "output_type": "display_data"
        }
      ],
      "source": [
        "confusion_matrix_plot(countvec_svc_best,X_test_countvec_svc_best,y_test, y_pred_countvec_svc_best)"
      ]
    },
    {
      "cell_type": "code",
      "execution_count": null,
      "metadata": {
        "colab": {
          "base_uri": "https://localhost:8080/"
        },
        "id": "SXRvG-jgeMF2",
        "outputId": "ccf12ec2-44f3-4870-b9c9-663323c92b05"
      },
      "outputs": [
        {
          "name": "stdout",
          "output_type": "stream",
          "text": [
            "              precision    recall  f1-score   support\n",
            "\n",
            "           0       0.65      0.71      0.68       527\n",
            "           1       0.92      0.90      0.91      1967\n",
            "\n",
            "    accuracy                           0.86      2494\n",
            "   macro avg       0.79      0.80      0.79      2494\n",
            "weighted avg       0.86      0.86      0.86      2494\n",
            "\n"
          ]
        }
      ],
      "source": [
        "print(classification_report(y_test,y_pred_countvec_svc_best))"
      ]
    },
    {
      "cell_type": "code",
      "execution_count": null,
      "metadata": {
        "colab": {
          "base_uri": "https://localhost:8080/",
          "height": 288
        },
        "id": "iJhgNCq7-7U6",
        "outputId": "d643df02-81b7-4bb4-bda1-99de33a3aae4"
      },
      "outputs": [
        {
          "data": {
            "image/png": "[encoded data removed]",
            "text/plain": [
              "<Figure size 432x288 with 1 Axes>"
            ]
          },
          "metadata": {
            "needs_background": "light"
          },
          "output_type": "display_data"
        }
      ],
      "source": [
        "plot_precision_recall_vs_thresholds(countvec_svc_best, X_test_countvec_svc_best,y_test,\"decision_function\")"
      ]
    },
    {
      "cell_type": "code",
      "execution_count": null,
      "metadata": {
        "colab": {
          "base_uri": "https://localhost:8080/",
          "height": 300
        },
        "id": "qPnDS512KSP_",
        "outputId": "a07d71d0-4e1e-4dc9-c439-71ad5e70f18b"
      },
      "outputs": [
        {
          "data": {
            "image/png": "[encoded data removed]",
            "text/plain": [
              "<Figure size 432x288 with 1 Axes>"
            ]
          },
          "metadata": {
            "needs_background": "light"
          },
          "output_type": "display_data"
        }
      ],
      "source": [
        "plot_roc_curve(countvec_svc_best, X_test_countvec_svc_best,y_test,\"decision_function\")"
      ]
    },
    {
      "cell_type": "markdown",
      "metadata": {
        "id": "Z3C6Fk7LS66t"
      },
      "source": [
        "*Choice 2 : TFIDFVectorizer*"
      ]
    },
    {
      "cell_type": "code",
      "execution_count": null,
      "metadata": {
        "colab": {
          "base_uri": "https://localhost:8080/"
        },
        "id": "rm_YVAYWKUVu",
        "outputId": "39dc1eca-8481-476e-aa8f-d169110d2e84"
      },
      "outputs": [
        {
          "name": "stdout",
          "output_type": "stream",
          "text": [
            "Fitting 5 folds for each of 24 candidates, totalling 120 fits\n"
          ]
        }
      ],
      "source": [
        "pipe = make_pipeline(TfidfVectorizer(), LinearSVC(max_iter=6000))\n",
        "param_grid = {'linearsvc__C': [0.5,1,5],\n",
        "              'linearsvc__penalty': ['l2'],\n",
        "              'linearsvc__loss': ['squared_hinge'],\n",
        "              'linearsvc__class_weight':['balanced'],\n",
        "              'tfidfvectorizer__ngram_range': [(1, 2),(1,3)],\n",
        "              'tfidfvectorizer__min_df':[4,5,6,7]}\n",
        "\n",
        "grid_tfidfvec_svc = GridSearchCV(pipe, param_grid, cv=5, verbose=1, scoring='roc_auc')\n",
        "\n",
        "with parallel_backend('threading', n_jobs=4):\n",
        "  grid_tfidfvec_svc.fit(X_train, y_train)"
      ]
    },
    {
      "cell_type": "code",
      "execution_count": null,
      "metadata": {
        "colab": {
          "base_uri": "https://localhost:8080/"
        },
        "id": "uOjt3-PiPbgV",
        "outputId": "e65c0007-77b3-450b-adaa-f15e4e89dca5"
      },
      "outputs": [
        {
          "data": {
            "text/plain": [
              "9015"
            ]
          },
          "execution_count": 28,
          "metadata": {},
          "output_type": "execute_result"
        }
      ],
      "source": [
        "gc.collect()"
      ]
    },
    {
      "cell_type": "code",
      "execution_count": null,
      "metadata": {
        "colab": {
          "base_uri": "https://localhost:8080/"
        },
        "id": "6dtj6wjaTbqx",
        "outputId": "33d908ad-5953-453e-a4ce-539022715935"
      },
      "outputs": [
        {
          "name": "stdout",
          "output_type": "stream",
          "text": [
            "Best cross-validation score: 0.93\n",
            "Best parameters:  {'linearsvc__C': 0.5, 'linearsvc__class_weight': 'balanced', 'linearsvc__loss': 'squared_hinge', 'linearsvc__penalty': 'l2', 'tfidfvectorizer__min_df': 4, 'tfidfvectorizer__ngram_range': (1, 3)}\n"
          ]
        }
      ],
      "source": [
        "print(\"Best cross-validation score: {:.2f}\".format(grid_tfidfvec_svc.best_score_))\n",
        "print(\"Best parameters: \", grid_tfidfvec_svc.best_params_)"
      ]
    },
    {
      "cell_type": "code",
      "execution_count": null,
      "metadata": {
        "id": "CqvuYSWITzZ1"
      },
      "outputs": [],
      "source": [
        "tfidfvec_svc = grid_tfidfvec_svc.best_estimator_.named_steps[\"tfidfvectorizer\"]\n",
        "tfidfvec_svc_best = grid_tfidfvec_svc.best_estimator_.named_steps[\"linearsvc\"]\n",
        "X_test_tfidfvec_svc_best=tfidfvec_svc.transform(X_test)\n",
        "y_pred_tfidfvec_svc_best = cross_val_predict(tfidfvec_svc_best,X_test_tfidfvec_svc_best,y_test,cv=5)"
      ]
    },
    {
      "cell_type": "code",
      "execution_count": null,
      "metadata": {
        "colab": {
          "base_uri": "https://localhost:8080/"
        },
        "id": "ktJYZKjoT3Jt",
        "outputId": "3a3785ac-d03b-4d00-87cd-19246742fde5"
      },
      "outputs": [
        {
          "data": {
            "text/plain": [
              "Score (not really usefull for unbalanced dataset)    0.888132\n",
              "Precision                                            0.905651\n",
              "Recall                                               0.936960\n",
              "F1 Score                                             0.921039\n",
              "dtype: float64"
            ]
          },
          "execution_count": 31,
          "metadata": {},
          "output_type": "execute_result"
        }
      ],
      "source": [
        "metrics_df(tfidfvec_svc_best,X_test_tfidfvec_svc_best,y_test,y_pred_tfidfvec_svc_best)"
      ]
    },
    {
      "cell_type": "code",
      "execution_count": null,
      "metadata": {
        "colab": {
          "base_uri": "https://localhost:8080/",
          "height": 520
        },
        "id": "NX11QHTeT6qC",
        "outputId": "ddf82b7e-1045-4ed2-c7d1-89c084084e5c"
      },
      "outputs": [
        {
          "data": {
            "image/png": "[encoded data removed]",
            "text/plain": [
              "<Figure size 648x648 with 2 Axes>"
            ]
          },
          "metadata": {
            "needs_background": "light"
          },
          "output_type": "display_data"
        }
      ],
      "source": [
        "confusion_matrix_plot(tfidfvec_svc_best,X_test_tfidfvec_svc_best,y_test, y_pred_tfidfvec_svc_best)"
      ]
    },
    {
      "cell_type": "code",
      "execution_count": null,
      "metadata": {
        "colab": {
          "base_uri": "https://localhost:8080/"
        },
        "id": "Y9Af6GxXeUjQ",
        "outputId": "0e64d882-4138-4452-8e75-8935a5bfebc9"
      },
      "outputs": [
        {
          "name": "stdout",
          "output_type": "stream",
          "text": [
            "              precision    recall  f1-score   support\n",
            "\n",
            "           0       0.73      0.64      0.68       527\n",
            "           1       0.91      0.94      0.92      1967\n",
            "\n",
            "    accuracy                           0.87      2494\n",
            "   macro avg       0.82      0.79      0.80      2494\n",
            "weighted avg       0.87      0.87      0.87      2494\n",
            "\n"
          ]
        }
      ],
      "source": [
        "print(classification_report(y_test,y_pred_tfidfvec_svc_best))"
      ]
    },
    {
      "cell_type": "code",
      "execution_count": null,
      "metadata": {
        "colab": {
          "base_uri": "https://localhost:8080/",
          "height": 288
        },
        "id": "k-Juft75UAZL",
        "outputId": "b297ec27-1e3a-445d-a59e-86f135ae8b72"
      },
      "outputs": [
        {
          "data": {
            "image/png": "[encoded data removed]",
            "text/plain": [
              "<Figure size 432x288 with 1 Axes>"
            ]
          },
          "metadata": {
            "needs_background": "light"
          },
          "output_type": "display_data"
        }
      ],
      "source": [
        "plot_precision_recall_vs_thresholds(tfidfvec_svc_best,X_test_tfidfvec_svc_best,y_test,\"decision_function\")"
      ]
    },
    {
      "cell_type": "code",
      "execution_count": null,
      "metadata": {
        "colab": {
          "base_uri": "https://localhost:8080/",
          "height": 300
        },
        "id": "Tvrl2cq0UfIF",
        "outputId": "12ac7714-8792-491c-d687-fba3bb715291"
      },
      "outputs": [
        {
          "data": {
            "image/png": "[encoded data removed]",
            "text/plain": [
              "<Figure size 432x288 with 1 Axes>"
            ]
          },
          "metadata": {
            "needs_background": "light"
          },
          "output_type": "display_data"
        }
      ],
      "source": [
        "plot_roc_curve(tfidfvec_svc_best,X_test_tfidfvec_svc_best,y_test,\"decision_function\")"
      ]
    },
    {
      "cell_type": "markdown",
      "metadata": {
        "id": "c634RTxyU1kZ"
      },
      "source": [
        "**LOGISTIC REGRESSION**"
      ]
    },
    {
      "cell_type": "markdown",
      "metadata": {
        "id": "LeyNExU8VUcb"
      },
      "source": [
        "*Choice 1 : CountVectorizer*"
      ]
    },
    {
      "cell_type": "code",
      "execution_count": null,
      "metadata": {
        "colab": {
          "base_uri": "https://localhost:8080/"
        },
        "id": "IfsvccH1Y3di",
        "outputId": "ddf70d58-72ab-45d6-e890-6f533b035bbf"
      },
      "outputs": [
        {
          "name": "stdout",
          "output_type": "stream",
          "text": [
            "Fitting 5 folds for each of 24 candidates, totalling 120 fits\n"
          ]
        }
      ],
      "source": [
        "pipe = make_pipeline(CountVectorizer(), LogisticRegression(max_iter=1000))\n",
        "param_grid = {'logisticregression__C': [2,3,4],\n",
        "              'logisticregression__penalty': ['l2'],\n",
        "              'logisticregression__class_weight': ['Balanced'],\n",
        "              'countvectorizer__ngram_range': [(1, 2),(1,3)],\n",
        "              'countvectorizer__min_df':[4,5,6,7]}\n",
        "\n",
        "grid_countvec_LR = GridSearchCV(pipe, param_grid, cv=5,verbose=1, scoring='roc_auc')\n",
        "\n",
        "with parallel_backend('threading', n_jobs=4):\n",
        "  grid_countvec_LR.fit(X_train, y_train)"
      ]
    },
    {
      "cell_type": "code",
      "execution_count": null,
      "metadata": {
        "colab": {
          "base_uri": "https://localhost:8080/"
        },
        "id": "sG2aTqZRWNCx",
        "outputId": "5b27e1f4-1ce6-4398-c001-09c0613a7f82"
      },
      "outputs": [
        {
          "data": {
            "text/plain": [
              "11723"
            ]
          },
          "execution_count": 37,
          "metadata": {},
          "output_type": "execute_result"
        }
      ],
      "source": [
        "gc.collect()"
      ]
    },
    {
      "cell_type": "code",
      "execution_count": null,
      "metadata": {
        "colab": {
          "base_uri": "https://localhost:8080/"
        },
        "id": "vppdrXQfZ2zj",
        "outputId": "5c20adf3-8d2a-4857-cffd-0dde3cac0620"
      },
      "outputs": [
        {
          "name": "stdout",
          "output_type": "stream",
          "text": [
            "Best cross-validation score: 0.91\n",
            "Best parameters:  {'countvectorizer__min_df': 4, 'countvectorizer__ngram_range': (1, 3), 'logisticregression__C': 2, 'logisticregression__class_weight': 'Balanced', 'logisticregression__penalty': 'l2'}\n"
          ]
        }
      ],
      "source": [
        "print(\"Best cross-validation score: {:.2f}\".format(grid_countvec_LR.best_score_))\n",
        "print(\"Best parameters: \", grid_countvec_LR.best_params_)"
      ]
    },
    {
      "cell_type": "code",
      "execution_count": null,
      "metadata": {
        "id": "BYo3TgsOb7A5"
      },
      "outputs": [],
      "source": [
        "countvec_LR = grid_countvec_LR.best_estimator_.named_steps[\"countvectorizer\"]\n",
        "countvec_logreg_best = grid_countvec_LR.best_estimator_.named_steps[\"logisticregression\"]\n",
        "X_test_countvec_LR_best=countvec_LR.transform(X_test)\n",
        "y_pred_countvec_LR_best = cross_val_predict(countvec_logreg_best,X_test_countvec_LR_best,y_test,cv=5)"
      ]
    },
    {
      "cell_type": "code",
      "execution_count": null,
      "metadata": {
        "colab": {
          "base_uri": "https://localhost:8080/"
        },
        "id": "TAWduvpYalxB",
        "outputId": "304b5dea-d34c-4c45-d58c-97290dd1c4a9"
      },
      "outputs": [
        {
          "data": {
            "text/plain": [
              "Score (not really usefull for unbalanced dataset)    0.891339\n",
              "Precision                                            0.887571\n",
              "Recall                                               0.951195\n",
              "F1 Score                                             0.918282\n",
              "dtype: float64"
            ]
          },
          "execution_count": 40,
          "metadata": {},
          "output_type": "execute_result"
        }
      ],
      "source": [
        "metrics_df(countvec_logreg_best,X_test_countvec_LR_best,y_test,y_pred_countvec_LR_best)"
      ]
    },
    {
      "cell_type": "code",
      "execution_count": null,
      "metadata": {
        "colab": {
          "base_uri": "https://localhost:8080/",
          "height": 520
        },
        "id": "K9IT6DF3bCTb",
        "outputId": "ee0ff794-06c3-49d2-eaec-eeb52b7c2554"
      },
      "outputs": [
        {
          "data": {
            "image/png": "[encoded data removed]",
            "text/plain": [
              "<Figure size 648x648 with 2 Axes>"
            ]
          },
          "metadata": {
            "needs_background": "light"
          },
          "output_type": "display_data"
        }
      ],
      "source": [
        "confusion_matrix_plot(countvec_logreg_best,X_test_countvec_LR_best,y_test, y_pred_countvec_LR_best)"
      ]
    },
    {
      "cell_type": "code",
      "execution_count": null,
      "metadata": {
        "colab": {
          "base_uri": "https://localhost:8080/"
        },
        "id": "L9-ec4D5ZO1O",
        "outputId": "b3f0519e-5f57-4dfd-aac4-31b5a197a5a7"
      },
      "outputs": [
        {
          "name": "stdout",
          "output_type": "stream",
          "text": [
            "              precision    recall  f1-score   support\n",
            "\n",
            "           0       0.75      0.55      0.64       527\n",
            "           1       0.89      0.95      0.92      1967\n",
            "\n",
            "    accuracy                           0.87      2494\n",
            "   macro avg       0.82      0.75      0.78      2494\n",
            "weighted avg       0.86      0.87      0.86      2494\n",
            "\n"
          ]
        }
      ],
      "source": [
        "print(classification_report(y_test,y_pred_countvec_LR_best))"
      ]
    },
    {
      "cell_type": "code",
      "execution_count": null,
      "metadata": {
        "colab": {
          "base_uri": "https://localhost:8080/",
          "height": 288
        },
        "id": "05drljsSej43",
        "outputId": "33cd85ec-dd0b-437a-8bf6-39c5173e97e0"
      },
      "outputs": [
        {
          "data": {
            "image/png": "[encoded data removed]",
            "text/plain": [
              "<Figure size 432x288 with 1 Axes>"
            ]
          },
          "metadata": {
            "needs_background": "light"
          },
          "output_type": "display_data"
        }
      ],
      "source": [
        "plot_precision_recall_vs_thresholds(countvec_logreg_best, X_test_countvec_LR_best,y_test,\"decision_function\")"
      ]
    },
    {
      "cell_type": "code",
      "execution_count": null,
      "metadata": {
        "colab": {
          "base_uri": "https://localhost:8080/",
          "height": 300
        },
        "id": "2H7YpnWHerzL",
        "outputId": "455e0350-5e50-4990-a3a7-32de709a5881"
      },
      "outputs": [
        {
          "data": {
            "image/png": "[encoded data removed]",
            "text/plain": [
              "<Figure size 432x288 with 1 Axes>"
            ]
          },
          "metadata": {
            "needs_background": "light"
          },
          "output_type": "display_data"
        }
      ],
      "source": [
        "plot_roc_curve(countvec_logreg_best, X_test_countvec_LR_best,y_test,\"decision_function\")"
      ]
    },
    {
      "cell_type": "markdown",
      "metadata": {
        "id": "_K61aefIfyAV"
      },
      "source": [
        "*Choice 2 TFIDF Vectorizer*"
      ]
    },
    {
      "cell_type": "code",
      "execution_count": null,
      "metadata": {
        "colab": {
          "base_uri": "https://localhost:8080/"
        },
        "id": "ceBrnErYv7iK",
        "outputId": "fdb78e6b-dd3b-471d-c1b8-eedc24b94920"
      },
      "outputs": [
        {
          "name": "stdout",
          "output_type": "stream",
          "text": [
            "Fitting 5 folds for each of 24 candidates, totalling 120 fits\n"
          ]
        }
      ],
      "source": [
        "pipe = make_pipeline(TfidfVectorizer(), LogisticRegression(max_iter=1000))\n",
        "param_grid = {'logisticregression__C': [5,10,20],\n",
        "              'logisticregression__penalty': ['l2'],\n",
        "              'logisticregression__class_weight': ['balanced'],\n",
        "              'tfidfvectorizer__ngram_range': [(1, 2),(1,3)],\n",
        "              'tfidfvectorizer__min_df':[4,5,6,7]}\n",
        "\n",
        "grid_tfidfvec_LR = GridSearchCV(pipe, param_grid, cv=5, verbose=1, scoring='roc_auc')\n",
        "\n",
        "with parallel_backend('threading', n_jobs=4):\n",
        "  grid_tfidfvec_LR.fit(X_train, y_train)"
      ]
    },
    {
      "cell_type": "code",
      "execution_count": null,
      "metadata": {
        "colab": {
          "base_uri": "https://localhost:8080/"
        },
        "id": "Z4c7jAKHYLb-",
        "outputId": "d47d9c55-4743-4e01-ffe6-7067a9dec354"
      },
      "outputs": [
        {
          "data": {
            "text/plain": [
              "12298"
            ]
          },
          "execution_count": 46,
          "metadata": {},
          "output_type": "execute_result"
        }
      ],
      "source": [
        "gc.collect()"
      ]
    },
    {
      "cell_type": "code",
      "execution_count": null,
      "metadata": {
        "colab": {
          "base_uri": "https://localhost:8080/"
        },
        "id": "xqmKmHVWf9yQ",
        "outputId": "07c22fdc-61e4-4984-e927-df69f21878de"
      },
      "outputs": [
        {
          "name": "stdout",
          "output_type": "stream",
          "text": [
            "Best cross-validation score: 0.93\n",
            "Best parameters:  {'logisticregression__C': 5, 'logisticregression__class_weight': 'balanced', 'logisticregression__penalty': 'l2', 'tfidfvectorizer__min_df': 4, 'tfidfvectorizer__ngram_range': (1, 3)}\n"
          ]
        }
      ],
      "source": [
        "print(\"Best cross-validation score: {:.2f}\".format(grid_tfidfvec_LR.best_score_))\n",
        "print(\"Best parameters: \", grid_tfidfvec_LR.best_params_)"
      ]
    },
    {
      "cell_type": "code",
      "execution_count": null,
      "metadata": {
        "id": "24rYA4qqgEuu"
      },
      "outputs": [],
      "source": [
        "tfidfvec_LR = grid_tfidfvec_LR.best_estimator_.named_steps[\"tfidfvectorizer\"]\n",
        "tfidfvec_LR_best = grid_tfidfvec_LR.best_estimator_.named_steps[\"logisticregression\"]\n",
        "X_test_tfidfvec_LR_best=tfidfvec_LR.transform(X_test)\n",
        "y_pred_tfidfvec_LR_best = cross_val_predict(tfidfvec_LR_best,X_test_tfidfvec_LR_best,y_test,cv=5)"
      ]
    },
    {
      "cell_type": "code",
      "execution_count": null,
      "metadata": {
        "colab": {
          "base_uri": "https://localhost:8080/"
        },
        "id": "b9mfhOmigHTm",
        "outputId": "e77eec11-88ab-4749-e2d5-de6a9911f5bb"
      },
      "outputs": [
        {
          "data": {
            "text/plain": [
              "Score (not really usefull for unbalanced dataset)    0.884924\n",
              "Precision                                            0.907526\n",
              "Recall                                               0.937977\n",
              "F1 Score                                             0.922500\n",
              "dtype: float64"
            ]
          },
          "execution_count": 49,
          "metadata": {},
          "output_type": "execute_result"
        }
      ],
      "source": [
        "metrics_df(tfidfvec_LR_best,X_test_tfidfvec_LR_best,y_test,y_pred_tfidfvec_LR_best)"
      ]
    },
    {
      "cell_type": "code",
      "execution_count": null,
      "metadata": {
        "colab": {
          "base_uri": "https://localhost:8080/",
          "height": 520
        },
        "id": "zL49i8axgJ5Q",
        "outputId": "5ce129d6-9699-4abb-81b1-3ab1ad9936c4"
      },
      "outputs": [
        {
          "data": {
            "image/png": "[encoded data removed]",
            "text/plain": [
              "<Figure size 648x648 with 2 Axes>"
            ]
          },
          "metadata": {
            "needs_background": "light"
          },
          "output_type": "display_data"
        }
      ],
      "source": [
        "confusion_matrix_plot(tfidfvec_LR_best,X_test_tfidfvec_LR_best,y_test, y_pred_tfidfvec_LR_best)"
      ]
    },
    {
      "cell_type": "code",
      "execution_count": null,
      "metadata": {
        "colab": {
          "base_uri": "https://localhost:8080/"
        },
        "id": "Wcn9e7V-ZMAD",
        "outputId": "56e81a33-8978-4b24-bd2d-e27fbb80a8a9"
      },
      "outputs": [
        {
          "name": "stdout",
          "output_type": "stream",
          "text": [
            "              precision    recall  f1-score   support\n",
            "\n",
            "           0       0.74      0.64      0.69       527\n",
            "           1       0.91      0.94      0.92      1967\n",
            "\n",
            "    accuracy                           0.88      2494\n",
            "   macro avg       0.82      0.79      0.80      2494\n",
            "weighted avg       0.87      0.88      0.87      2494\n",
            "\n"
          ]
        }
      ],
      "source": [
        "print(classification_report(y_test,y_pred_tfidfvec_LR_best))"
      ]
    },
    {
      "cell_type": "code",
      "execution_count": null,
      "metadata": {
        "colab": {
          "base_uri": "https://localhost:8080/",
          "height": 288
        },
        "id": "0gCQdDXhggOY",
        "outputId": "a95d2811-4d2f-498d-fddd-099aaaf5e608"
      },
      "outputs": [
        {
          "data": {
            "image/png": "[encoded data removed]",
            "text/plain": [
              "<Figure size 432x288 with 1 Axes>"
            ]
          },
          "metadata": {
            "needs_background": "light"
          },
          "output_type": "display_data"
        }
      ],
      "source": [
        "plot_precision_recall_vs_thresholds(tfidfvec_LR_best,X_test_tfidfvec_LR_best,y_test,\"decision_function\")"
      ]
    },
    {
      "cell_type": "code",
      "execution_count": null,
      "metadata": {
        "colab": {
          "base_uri": "https://localhost:8080/",
          "height": 300
        },
        "id": "8qd4RJnJghZp",
        "outputId": "57b68175-3fa2-4efd-f943-f27f2ff89c46"
      },
      "outputs": [
        {
          "data": {
            "image/png": "[encoded data removed]",
            "text/plain": [
              "<Figure size 432x288 with 1 Axes>"
            ]
          },
          "metadata": {
            "needs_background": "light"
          },
          "output_type": "display_data"
        }
      ],
      "source": [
        "plot_roc_curve(tfidfvec_LR_best,X_test_tfidfvec_LR_best,y_test,\"decision_function\")"
      ]
    },
    {
      "cell_type": "markdown",
      "metadata": {
        "id": "15f_U3czr_Yb"
      },
      "source": [
        "**BERNOULLI NB**"
      ]
    },
    {
      "cell_type": "markdown",
      "metadata": {
        "id": "07jd5qsFAXdf"
      },
      "source": [
        "*Count Vectorizer*"
      ]
    },
    {
      "cell_type": "code",
      "execution_count": null,
      "metadata": {
        "colab": {
          "base_uri": "https://localhost:8080/"
        },
        "id": "fasgrRfNAcal",
        "outputId": "a4c8d616-8252-405e-bfb7-c09c0642579a"
      },
      "outputs": [
        {
          "name": "stdout",
          "output_type": "stream",
          "text": [
            "Fitting 5 folds for each of 24 candidates, totalling 120 fits\n"
          ]
        }
      ],
      "source": [
        "pipe = make_pipeline(CountVectorizer(), BernoulliNB())\n",
        "param_grid = {'bernoullinb__alpha': [0.01,0.05,0.1],\n",
        "              'countvectorizer__ngram_range': [(1, 2),(1,3)],\n",
        "              'countvectorizer__min_df':[4,5,6,7]}\n",
        "\n",
        "grid_countvec_NB = GridSearchCV(pipe, param_grid, cv=5, verbose=1,scoring='roc_auc')\n",
        "\n",
        "with parallel_backend('threading', n_jobs=4):\n",
        "  grid_countvec_NB.fit(X_train, y_train)"
      ]
    },
    {
      "cell_type": "code",
      "execution_count": null,
      "metadata": {
        "colab": {
          "base_uri": "https://localhost:8080/"
        },
        "id": "6JIWKspDZ3Sq",
        "outputId": "f3f512d8-dd3d-46df-8cd9-a3ce79e38216"
      },
      "outputs": [
        {
          "data": {
            "text/plain": [
              "9588"
            ]
          },
          "execution_count": 55,
          "metadata": {},
          "output_type": "execute_result"
        }
      ],
      "source": [
        "gc.collect()"
      ]
    },
    {
      "cell_type": "code",
      "execution_count": null,
      "metadata": {
        "colab": {
          "base_uri": "https://localhost:8080/"
        },
        "id": "Nq3RErbQBnS7",
        "outputId": "2ea5607d-4242-4899-f5c6-e132d72e8203"
      },
      "outputs": [
        {
          "name": "stdout",
          "output_type": "stream",
          "text": [
            "Best cross-validation score: 0.91\n",
            "Best parameters:  {'bernoullinb__alpha': 0.1, 'countvectorizer__min_df': 4, 'countvectorizer__ngram_range': (1, 3)}\n"
          ]
        }
      ],
      "source": [
        "print(\"Best cross-validation score: {:.2f}\".format(grid_countvec_NB.best_score_))\n",
        "print(\"Best parameters: \", grid_countvec_NB.best_params_)"
      ]
    },
    {
      "cell_type": "code",
      "execution_count": null,
      "metadata": {
        "id": "9KzHnCnRBzXc"
      },
      "outputs": [],
      "source": [
        "countvec_NB = grid_countvec_NB.best_estimator_.named_steps[\"countvectorizer\"]\n",
        "countvec_NB_best = grid_countvec_NB.best_estimator_.named_steps[\"bernoullinb\"]\n",
        "X_test_countvec_NB_best=countvec_NB.transform(X_test)\n",
        "y_pred_countvec_NB_best = cross_val_predict(countvec_NB_best,X_test_countvec_NB_best,y_test,cv=5)"
      ]
    },
    {
      "cell_type": "code",
      "execution_count": null,
      "metadata": {
        "colab": {
          "base_uri": "https://localhost:8080/"
        },
        "id": "y0vH_4ceB1oa",
        "outputId": "ead10d59-53bb-46e8-cc1e-0be87332a850"
      },
      "outputs": [
        {
          "data": {
            "text/plain": [
              "Score (not really usefull for unbalanced dataset)    0.879310\n",
              "Precision                                            0.883430\n",
              "Recall                                               0.932384\n",
              "F1 Score                                             0.907247\n",
              "dtype: float64"
            ]
          },
          "execution_count": 58,
          "metadata": {},
          "output_type": "execute_result"
        }
      ],
      "source": [
        "metrics_df(countvec_NB_best,X_test_countvec_NB_best,y_test,y_pred_countvec_NB_best)"
      ]
    },
    {
      "cell_type": "code",
      "execution_count": null,
      "metadata": {
        "colab": {
          "base_uri": "https://localhost:8080/",
          "height": 520
        },
        "id": "170achrSZzuo",
        "outputId": "2b131679-1541-454e-be9b-6b0996bd761a"
      },
      "outputs": [
        {
          "data": {
            "image/png": "[encoded data removed]",
            "text/plain": [
              "<Figure size 648x648 with 2 Axes>"
            ]
          },
          "metadata": {
            "needs_background": "light"
          },
          "output_type": "display_data"
        }
      ],
      "source": [
        "confusion_matrix_plot(countvec_NB_best,X_test_countvec_NB_best,y_test,y_pred_countvec_NB_best)"
      ]
    },
    {
      "cell_type": "code",
      "execution_count": null,
      "metadata": {
        "colab": {
          "base_uri": "https://localhost:8080/"
        },
        "id": "ryR1gLNSWp6B",
        "outputId": "d92f441b-22cc-4ca2-8b54-f3ceafd763ea"
      },
      "outputs": [
        {
          "name": "stdout",
          "output_type": "stream",
          "text": [
            "              precision    recall  f1-score   support\n",
            "\n",
            "           0       0.68      0.54      0.60       527\n",
            "           1       0.88      0.93      0.91      1967\n",
            "\n",
            "    accuracy                           0.85      2494\n",
            "   macro avg       0.78      0.74      0.76      2494\n",
            "weighted avg       0.84      0.85      0.84      2494\n",
            "\n"
          ]
        }
      ],
      "source": [
        "print(classification_report(y_test,y_pred_countvec_NB_best))"
      ]
    },
    {
      "cell_type": "code",
      "execution_count": null,
      "metadata": {
        "colab": {
          "base_uri": "https://localhost:8080/",
          "height": 288
        },
        "id": "Uii7OTDUZvGv",
        "outputId": "0830aa8c-dada-40df-9d56-e1249b214626"
      },
      "outputs": [
        {
          "data": {
            "image/png": "[encoded data removed]",
            "text/plain": [
              "<Figure size 432x288 with 1 Axes>"
            ]
          },
          "metadata": {
            "needs_background": "light"
          },
          "output_type": "display_data"
        }
      ],
      "source": [
        "plot_precision_recall_vs_thresholds(countvec_NB_best,X_test_countvec_NB_best,y_test,\"predict_proba\")"
      ]
    },
    {
      "cell_type": "code",
      "execution_count": null,
      "metadata": {
        "colab": {
          "base_uri": "https://localhost:8080/",
          "height": 300
        },
        "id": "azR7ZQYMB4QP",
        "outputId": "17b891fe-83ce-4e47-d3ac-2f7826177984"
      },
      "outputs": [
        {
          "data": {
            "image/png": "[encoded data removed]",
            "text/plain": [
              "<Figure size 432x288 with 1 Axes>"
            ]
          },
          "metadata": {
            "needs_background": "light"
          },
          "output_type": "display_data"
        }
      ],
      "source": [
        "plot_roc_curve(countvec_NB_best,X_test_countvec_NB_best,y_test,\"predict_proba\")"
      ]
    },
    {
      "cell_type": "markdown",
      "metadata": {
        "id": "Se2sXFW-APNt"
      },
      "source": [
        "*TFIDF Vectorizer*"
      ]
    },
    {
      "cell_type": "code",
      "execution_count": null,
      "metadata": {
        "colab": {
          "base_uri": "https://localhost:8080/"
        },
        "id": "Gvfhf8Xe3pAH",
        "outputId": "0fce5254-4f78-4c81-ddc7-d3b7ddafe849"
      },
      "outputs": [
        {
          "name": "stdout",
          "output_type": "stream",
          "text": [
            "Fitting 5 folds for each of 24 candidates, totalling 120 fits\n"
          ]
        }
      ],
      "source": [
        "pipe = make_pipeline(TfidfVectorizer(), BernoulliNB())\n",
        "param_grid = {'bernoullinb__alpha': [0.01,0.05,0.1],\n",
        "              'tfidfvectorizer__ngram_range': [(1, 2),(1,3)],\n",
        "              'tfidfvectorizer__min_df':[4,5,6,7]}\n",
        "\n",
        "grid_tfidf_NB = GridSearchCV(pipe, param_grid, cv=5, verbose=1, scoring='roc_auc')\n",
        "\n",
        "with parallel_backend('threading', n_jobs=4):\n",
        "  grid_tfidf_NB.fit(X_train, y_train)"
      ]
    },
    {
      "cell_type": "code",
      "execution_count": null,
      "metadata": {
        "colab": {
          "base_uri": "https://localhost:8080/"
        },
        "id": "c4kfJhwgZh8D",
        "outputId": "a1db8917-f6dd-4c18-d699-ed4be4e91291"
      },
      "outputs": [
        {
          "data": {
            "text/plain": [
              "9024"
            ]
          },
          "execution_count": 64,
          "metadata": {},
          "output_type": "execute_result"
        }
      ],
      "source": [
        "gc.collect()"
      ]
    },
    {
      "cell_type": "code",
      "execution_count": null,
      "metadata": {
        "colab": {
          "base_uri": "https://localhost:8080/"
        },
        "id": "vr450Dcojf2z",
        "outputId": "189fbe53-7cd6-4bbc-b74d-fa479860aeba"
      },
      "outputs": [
        {
          "name": "stdout",
          "output_type": "stream",
          "text": [
            "Best cross-validation score: 0.91\n",
            "Best parameters:  {'bernoullinb__alpha': 0.1, 'tfidfvectorizer__min_df': 4, 'tfidfvectorizer__ngram_range': (1, 3)}\n"
          ]
        }
      ],
      "source": [
        "print(\"Best cross-validation score: {:.2f}\".format(grid_tfidf_NB.best_score_))\n",
        "print(\"Best parameters: \", grid_tfidf_NB.best_params_)"
      ]
    },
    {
      "cell_type": "code",
      "execution_count": null,
      "metadata": {
        "id": "VKGsz4f7jwE0"
      },
      "outputs": [],
      "source": [
        "tfidfvec_NB = grid_tfidf_NB.best_estimator_.named_steps[\"tfidfvectorizer\"]\n",
        "tfidfvec_NB_best = grid_tfidf_NB.best_estimator_.named_steps[\"bernoullinb\"]\n",
        "X_test_tfidfvec_NB_best=tfidfvec_NB.transform(X_test)\n",
        "y_pred_tfidfvec_NB_best = cross_val_predict(tfidfvec_NB_best,X_test_tfidfvec_NB_best,y_test,cv=5)"
      ]
    },
    {
      "cell_type": "code",
      "execution_count": null,
      "metadata": {
        "colab": {
          "base_uri": "https://localhost:8080/"
        },
        "id": "somhU5m5j0ff",
        "outputId": "d0447d2a-b2ae-42e5-b485-165eb4bfcf60"
      },
      "outputs": [
        {
          "data": {
            "text/plain": [
              "Score (not really usefull for unbalanced dataset)    0.879310\n",
              "Precision                                            0.883430\n",
              "Recall                                               0.932384\n",
              "F1 Score                                             0.907247\n",
              "dtype: float64"
            ]
          },
          "execution_count": 67,
          "metadata": {},
          "output_type": "execute_result"
        }
      ],
      "source": [
        "metrics_df(tfidfvec_NB_best,X_test_tfidfvec_NB_best,y_test,y_pred_tfidfvec_NB_best)"
      ]
    },
    {
      "cell_type": "code",
      "execution_count": null,
      "metadata": {
        "colab": {
          "base_uri": "https://localhost:8080/",
          "height": 520
        },
        "id": "9AMXZU4WYiWG",
        "outputId": "4adfdd96-c6ce-4258-9a87-efe1cc2794ec"
      },
      "outputs": [
        {
          "data": {
            "image/png": "[encoded data removed]",
            "text/plain": [
              "<Figure size 648x648 with 2 Axes>"
            ]
          },
          "metadata": {
            "needs_background": "light"
          },
          "output_type": "display_data"
        }
      ],
      "source": [
        "confusion_matrix_plot(tfidfvec_NB_best,X_test_tfidfvec_NB_best,y_test,y_pred_tfidfvec_NB_best)"
      ]
    },
    {
      "cell_type": "code",
      "execution_count": null,
      "metadata": {
        "colab": {
          "base_uri": "https://localhost:8080/"
        },
        "id": "8QUXO1WUWmLU",
        "outputId": "00980d3b-37a0-4929-d49d-a2a69de1cb5f"
      },
      "outputs": [
        {
          "name": "stdout",
          "output_type": "stream",
          "text": [
            "              precision    recall  f1-score   support\n",
            "\n",
            "           0       0.68      0.54      0.60       527\n",
            "           1       0.88      0.93      0.91      1967\n",
            "\n",
            "    accuracy                           0.85      2494\n",
            "   macro avg       0.78      0.74      0.76      2494\n",
            "weighted avg       0.84      0.85      0.84      2494\n",
            "\n"
          ]
        }
      ],
      "source": [
        "print(classification_report(y_test,y_pred_tfidfvec_NB_best))"
      ]
    },
    {
      "cell_type": "code",
      "execution_count": null,
      "metadata": {
        "colab": {
          "base_uri": "https://localhost:8080/",
          "height": 288
        },
        "id": "F-2OavnRZwJz",
        "outputId": "d2ce0e74-59b4-4e30-c1f1-e41d0bb012da"
      },
      "outputs": [
        {
          "data": {
            "image/png": "[encoded data removed]",
            "text/plain": [
              "<Figure size 432x288 with 1 Axes>"
            ]
          },
          "metadata": {
            "needs_background": "light"
          },
          "output_type": "display_data"
        }
      ],
      "source": [
        "plot_precision_recall_vs_thresholds(tfidfvec_NB_best,X_test_tfidfvec_NB_best,y_test,\"predict_proba\")"
      ]
    },
    {
      "cell_type": "code",
      "execution_count": null,
      "metadata": {
        "colab": {
          "base_uri": "https://localhost:8080/",
          "height": 300
        },
        "id": "QTsyCUGMnbIz",
        "outputId": "c79cd897-6172-48ff-f9cf-19b3d24b8ea7"
      },
      "outputs": [
        {
          "data": {
            "image/png": "[encoded data removed]",
            "text/plain": [
              "<Figure size 432x288 with 1 Axes>"
            ]
          },
          "metadata": {
            "needs_background": "light"
          },
          "output_type": "display_data"
        }
      ],
      "source": [
        "plot_roc_curve(tfidfvec_NB_best,X_test_tfidfvec_NB_best,y_test,\"predict_proba\")"
      ]
    },
    {
      "cell_type": "markdown",
      "metadata": {
        "id": "51eLlbxATxob"
      },
      "source": [
        "**Synthèse :**\n",
        "\n",
        "Sur les 3 modèles testés, le choix se porte sur la Logistic Regression avec TFIDF car elle offre le meilleur compromis precision recall ainsi que le meilleur AUC, métrique que j'ai privilégié pour ce type de dataset."
      ]
    },
    {
      "cell_type": "markdown",
      "metadata": {
        "id": "l9QKQnbT5vLc"
      },
      "source": [
        "**MLP Classifier**\n",
        "(Not used for now, need to adjust parameters in a better way)"
      ]
    },
    {
      "cell_type": "markdown",
      "metadata": {
        "id": "HQlGFQm4vbgw"
      },
      "source": [
        "*choice 1 : CountVectorizer*"
      ]
    },
    {
      "cell_type": "code",
      "execution_count": null,
      "metadata": {
        "cellView": "form",
        "id": "IWwIfrQcPFsj"
      },
      "outputs": [],
      "source": [
        "#@title\n",
        "pipe = make_pipeline(CountVectorizer(), MLPClassifier(activation='logistic', max_iter=1000))\n",
        "param_grid = {'mlpclassifier__hidden_layer_sizes': [[5,4,5],[5,5,5],[5,6,5]],\n",
        "              'countvectorizer__ngram_range': [(1, 2),(1,3)],\n",
        "              'countvectorizer__min_df':[4,5,6,7]}\n",
        "\n",
        "grid = GridSearchCV(pipe, param_grid, cv=5, verbose=1)\n",
        "\n",
        "with parallel_backend('threading', n_jobs=4):\n",
        "  grid.fit(X_train, y_train)"
      ]
    },
    {
      "cell_type": "code",
      "execution_count": null,
      "metadata": {
        "cellView": "form",
        "id": "k0S0GTMOPshf"
      },
      "outputs": [],
      "source": [
        "#@title\n",
        "gc.collect()"
      ]
    },
    {
      "cell_type": "code",
      "execution_count": null,
      "metadata": {
        "cellView": "form",
        "id": "ycfbTSW5Pv_l"
      },
      "outputs": [],
      "source": [
        "#@title\n",
        "print(\"Best cross-validation score: {:.2f}\".format(grid.best_score_))\n",
        "print(\"Best parameters: \", grid.best_params_)"
      ]
    },
    {
      "cell_type": "code",
      "execution_count": null,
      "metadata": {
        "cellView": "form",
        "id": "xQRUWynoEFOV"
      },
      "outputs": [],
      "source": [
        "#@title\n",
        "vec = grid.best_estimator_.named_steps[\"countvectorizer\"]\n",
        "MLP_best = grid.best_estimator_.named_steps[\"mlpclassifier\"]\n",
        "X_test_vec=vec.transform(X_test)\n",
        "y_pred = cross_val_predict(NB_best,X_test_vec,y_test,cv=5)"
      ]
    },
    {
      "cell_type": "code",
      "execution_count": null,
      "metadata": {
        "cellView": "form",
        "id": "SGW6A6QJP5fT"
      },
      "outputs": [],
      "source": [
        "#@title\n",
        "metrics_df(MLP_best,X_test_vec,y_test,y_pred)"
      ]
    },
    {
      "cell_type": "code",
      "execution_count": null,
      "metadata": {
        "cellView": "form",
        "id": "vkimYpNuP_iz"
      },
      "outputs": [],
      "source": [
        "#@title\n",
        "confusion_matrix_plot(MLP_best,X_test_vec,y_test, y_pred)"
      ]
    },
    {
      "cell_type": "code",
      "execution_count": null,
      "metadata": {
        "cellView": "form",
        "id": "XfrQ0WA6vYZs"
      },
      "outputs": [],
      "source": [
        "#@title\n",
        "print(classification_report(y_test,y_pred))"
      ]
    },
    {
      "cell_type": "code",
      "execution_count": null,
      "metadata": {
        "cellView": "form",
        "id": "E_ea1u94QBD-"
      },
      "outputs": [],
      "source": [
        "#@title\n",
        "plot_precision_recall_vs_thresholds(MLP_best, X_test_vec,y_test,\"predict_proba\")"
      ]
    },
    {
      "cell_type": "code",
      "execution_count": null,
      "metadata": {
        "cellView": "form",
        "id": "Lc-H6pZOQFFh"
      },
      "outputs": [],
      "source": [
        "#@title\n",
        "plot_roc_curve(MLP_best, X_test_vec, y_test,\"predict_proba\")"
      ]
    },
    {
      "cell_type": "markdown",
      "metadata": {
        "id": "hxsCFYVWlapo"
      },
      "source": [
        "*Choice 2 : TFIDFVectorizer*"
      ]
    },
    {
      "cell_type": "code",
      "execution_count": null,
      "metadata": {
        "cellView": "form",
        "id": "Xn96lNgyleOF"
      },
      "outputs": [],
      "source": [
        "#@title\n",
        "pipe = make_pipeline(TfidfVectorizer(), MLPClassifier(activation='logistic', max_iter=1000))\n",
        "param_grid = {'mlpclassifier__hidden_layer_sizes': [[5,4,5],[5,5,5],[5,6,5]],\n",
        "              'tfidfvectorizer__ngram_range': [(1, 2),(1,3)],\n",
        "              'tfidfvectorizer__min_df':[4,5,6,7]}\n",
        "\n",
        "grid = GridSearchCV(pipe, param_grid, cv=5, verbose=1)\n",
        "\n",
        "with parallel_backend('threading', n_jobs=4):\n",
        "  grid.fit(X_train, y_train)"
      ]
    },
    {
      "cell_type": "code",
      "execution_count": null,
      "metadata": {
        "cellView": "form",
        "id": "SvpSys_GlpFE"
      },
      "outputs": [],
      "source": [
        "#@title\n",
        "gc.collect()"
      ]
    },
    {
      "cell_type": "code",
      "execution_count": null,
      "metadata": {
        "cellView": "form",
        "id": "vNtYVjwFlq1W"
      },
      "outputs": [],
      "source": [
        "#@title\n",
        "print(\"Best cross-validation score: {:.2f}\".format(grid.best_score_))\n",
        "print(\"Best parameters: \", grid.best_params_)"
      ]
    },
    {
      "cell_type": "code",
      "execution_count": null,
      "metadata": {
        "cellView": "form",
        "id": "KwjnSyGYlr7C"
      },
      "outputs": [],
      "source": [
        "#@title\n",
        "vec = grid.best_estimator_.named_steps[\"tfidfvectorizer\"]\n",
        "MLP_best = grid.best_estimator_.named_steps[\"mlpclassifier\"]\n",
        "X_test_vec=vec.transform(X_test)\n",
        "y_pred = cross_val_predict(NB_best,X_test_vec,y_test,cv=5)"
      ]
    },
    {
      "cell_type": "code",
      "execution_count": null,
      "metadata": {
        "cellView": "form",
        "id": "w-mayOrVl2TD"
      },
      "outputs": [],
      "source": [
        "#@title\n",
        "confusion_matrix_plot(MLP_best,X_test_vec,y_test, y_pred)"
      ]
    },
    {
      "cell_type": "code",
      "execution_count": null,
      "metadata": {
        "cellView": "form",
        "id": "fBsYltwwWcfS"
      },
      "outputs": [],
      "source": [
        "#@title\n",
        "print(classification_report(y_test,y_pred))"
      ]
    },
    {
      "cell_type": "code",
      "execution_count": null,
      "metadata": {
        "cellView": "form",
        "id": "4k1Eb1ORl5Vi"
      },
      "outputs": [],
      "source": [
        "#@title\n",
        "plot_precision_recall_vs_thresholds(MLP_best, X_test_vec,y_test,\"predict_proba\")"
      ]
    },
    {
      "cell_type": "code",
      "execution_count": null,
      "metadata": {
        "cellView": "form",
        "id": "qNmxSGeyl8Kb"
      },
      "outputs": [],
      "source": [
        "#@title\n",
        "plot_roc_curve(MLP_best, X_test_vec, y_test,\"predict_proba\")"
      ]
    }
  ],
  "metadata": {
    "colab": {
      "collapsed_sections": [],
      "name": "Sentiment Analysis Project Final.ipynb",
      "provenance": []
    },
    "kernelspec": {
      "display_name": "Python 3",
      "name": "python3"
    },
    "language_info": {
      "name": "python"
    }
  },
  "nbformat": 4,
  "nbformat_minor": 0
}
